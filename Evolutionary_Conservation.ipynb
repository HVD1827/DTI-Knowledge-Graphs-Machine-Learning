{
 "cells": [
  {
   "cell_type": "code",
   "execution_count": null,
   "id": "c9a3c05d",
   "metadata": {},
   "outputs": [],
   "source": [
    "import pandas as pd\n",
    "import networkx as nx\n",
    "from collections import defaultdict\n",
    "import matplotlib.pyplot as plt\n",
    "\n",
    "\n",
    "krogan_df = pd.read_excel(\"2020-03-18_Krogan_SARSCoV2_27baits.xlsx\")\n",
    "human_df = pd.read_csv(\"human_ppi_edges.csv\")\n",
    "\n",
    "G = nx.Graph()\n",
    "\n",
    "for _, row in krogan_df.iterrows():\n",
    "    virus = row['Bait']\n",
    "    human = row['PreyGene']\n",
    "    G.add_edge(virus, human, interaction='viral-human')\n",
    "\n",
    "for _, row in human_df.iterrows():\n",
    "    G.add_edge(row['protein1_gene'], row['protein2_gene'], interaction='human-human')\n",
    "\n"
   ]
  },
  {
   "cell_type": "code",
   "execution_count": null,
   "id": "da8328a4",
   "metadata": {},
   "outputs": [],
   "source": [
    "# Read the file without header (since it's just one column)\n",
    "ortholog_raw = pd.read_csv(\"human_mouse_orthologs.csv\", header=None)\n",
    "\n",
    "# Split the only column into actual columns\n",
    "ortholog_df = ortholog_raw[0].str.replace('\"', '').str.split(\",\", expand=True)\n",
    "\n",
    "# Drop the duplicated header row (actual header is already set)\n",
    "ortholog_df = ortholog_df.drop(index=0).reset_index(drop=True)\n"
   ]
  },
  {
   "cell_type": "code",
   "execution_count": null,
   "id": "b5de3442",
   "metadata": {},
   "outputs": [],
   "source": [
    "# Optional: filter to 1-to-1 orthologs only\n",
    "ortholog_df = ortholog_df[ortholog_df[\"Mouse homology type\"] == \"ortholog_one2one\"]\n",
    "\n",
    "# Create the mapping\n",
    "ortholog_map = dict(zip(ortholog_df[\"Gene name\"], ortholog_df[\"Mouse gene name\"]))\n"
   ]
  },
  {
   "cell_type": "code",
   "execution_count": null,
   "id": "9583d3b1",
   "metadata": {},
   "outputs": [],
   "source": [
    "viral_nodes = krogan_df['Bait'].unique()\n",
    "viral_subnetworks = {}\n",
    "\n",
    "for v in viral_nodes:\n",
    "    neighbors = list(G.neighbors(v))\n",
    "    subgraph_nodes = [v] + neighbors\n",
    "    subG = G.subgraph(subgraph_nodes)\n",
    "    viral_subnetworks[v] = subG\n"
   ]
  },
  {
   "cell_type": "code",
   "execution_count": null,
   "id": "06c466b0",
   "metadata": {},
   "outputs": [],
   "source": [
    "from operator import itemgetter\n",
    "\n",
    "results = []\n",
    "def is_conserved(h1, h2):\n",
    "    m1 = ortholog_map.get(h1)\n",
    "    m2 = ortholog_map.get(h2)\n",
    "    if not m1 or not m2:\n",
    "        return False\n",
    "    return tuple(sorted([m1, m2])) in mouse_edges\n",
    "\n",
    "for human in set(krogan_df['PreyGene']):\n",
    "    viral_partners = krogan_df[krogan_df['PreyGene'] == human]['Bait'].nunique()\n",
    "    degree = G.degree(human)\n",
    "    \n",
    "    # Check conservation\n",
    "    conserved = False\n",
    "    for neighbor in G.neighbors(human):\n",
    "        if G.edges[human, neighbor]['interaction'] == 'human-human' and is_conserved(human, neighbor):\n",
    "            conserved = True\n",
    "            break\n",
    "    \n",
    "    results.append({\n",
    "        'gene': human,\n",
    "        'viral_partners': viral_partners,\n",
    "        'degree': degree,\n",
    "        'conserved': conserved\n",
    "    })\n",
    "\n",
    "df_results = pd.DataFrame(results)\n",
    "df_results = df_results.sort_values(by=['viral_partners', 'degree'], ascending=False)\n"
   ]
  },
  {
   "cell_type": "code",
   "execution_count": null,
   "id": "838be404",
   "metadata": {},
   "outputs": [],
   "source": [
    "df_results.to_csv(\"ranked_targets.csv\", index=False)\n",
    "\n",
    "nx.draw(viral_subnetworks['SARS-CoV2 E'], with_labels=True, node_size=300)\n",
    "plt.show()\n"
   ]
  },
  {
   "cell_type": "code",
   "execution_count": null,
   "id": "8d5e3c5e",
   "metadata": {},
   "outputs": [],
   "source": [
    "import pandas as pd\n",
    "import networkx as nx\n",
    "import matplotlib.pyplot as plt\n",
    "import seaborn as sns\n",
    "from scipy.stats import mannwhitneyu\n",
    "\n",
    "human_df = pd.read_csv(\"human_ppi_edges.csv\")  # must have protein1_gene, protein2_gene\n",
    "\n",
    "G = nx.Graph()\n",
    "for _, row in human_df.iterrows():\n",
    "    G.add_edge(row['protein1_gene'], row['protein2_gene'])\n",
    "\n",
    "centrality = nx.degree_centrality(G)\n",
    "centrality_df = pd.DataFrame.from_dict(centrality, orient='index', columns=['centrality']).reset_index()\n",
    "centrality_df = centrality_df.rename(columns={'index': 'gene'})\n"
   ]
  },
  {
   "cell_type": "code",
   "execution_count": null,
   "id": "c384c1e7",
   "metadata": {},
   "outputs": [],
   "source": [
    "import pandas as pd\n",
    "import networkx as nx\n",
    "\n",
    "human_df = pd.read_csv(\"human_ppi_edges.csv\")  \n",
    "\n",
    "G = nx.Graph()\n",
    "for _, row in human_df.iterrows():\n",
    "    G.add_edge(row['protein1_gene'], row['protein2_gene'])\n",
    "\n",
    "centrality = nx.degree_centrality(G)\n",
    "centrality_df = pd.DataFrame.from_dict(centrality, orient='index', columns=['centrality']).reset_index()\n",
    "centrality_df = centrality_df.rename(columns={'index': 'gene'})\n",
    "\n",
    "centrality_df.to_csv(\"hub_genes.csv\", index=False)\n"
   ]
  },
  {
   "cell_type": "code",
   "execution_count": null,
   "id": "aa27324d",
   "metadata": {},
   "outputs": [],
   "source": [
    "import pandas as pd\n",
    "from sklearn.preprocessing import MinMaxScaler\n",
    "\n",
    "centrality_df = pd.read_csv(\"hub_genes.csv\")  # gene, centrality\n",
    "centrality_df = centrality_df[['gene', 'centrality']]\n",
    "\n",
    "conservation_df = pd.read_csv(\"viral_target_conservation_ratios.csv\")  # gene, conservation_ratio\n",
    "conservation_df = conservation_df[['gene', 'conservation_ratio']]\n"
   ]
  },
  {
   "cell_type": "code",
   "execution_count": null,
   "id": "b27b3086",
   "metadata": {},
   "outputs": [],
   "source": [
    "merged_df = pd.merge(centrality_df, conservation_df, on='gene', how='inner')\n",
    "print(f\"✅ Merged {len(merged_df)} genes with both centrality and conservation scores\")\n",
    "print(merged_df.head())\n",
    "\n"
   ]
  },
  {
   "cell_type": "code",
   "execution_count": null,
   "id": "e058cb1d",
   "metadata": {},
   "outputs": [],
   "source": [
    "scaler = MinMaxScaler()\n",
    "\n",
    "merged_df[['centrality_norm', 'conservation_norm']] = scaler.fit_transform(\n",
    "    merged_df[['centrality', 'conservation_ratio']]\n",
    ")\n"
   ]
  },
  {
   "cell_type": "code",
   "execution_count": null,
   "id": "78f3c745",
   "metadata": {},
   "outputs": [],
   "source": [
    "merged_df['final_score'] = 0.5 * merged_df['centrality_norm'] + 0.5 * merged_df['conservation_norm']\n",
    "\n",
    "merged_df = merged_df.sort_values(by='final_score', ascending=False)\n"
   ]
  },
  {
   "cell_type": "code",
   "execution_count": null,
   "id": "3df3d73e",
   "metadata": {},
   "outputs": [],
   "source": [
    "merged_df.to_csv(\"final_prioritized_viral_targets.csv\", index=False)\n",
    "\n",
    "print(\"🎯 Top candidates:\")\n",
    "print(merged_df[['gene', 'centrality', 'conservation_ratio', 'final_score']].head(10))\n"
   ]
  },
  {
   "cell_type": "code",
   "execution_count": null,
   "id": "08e439f2",
   "metadata": {},
   "outputs": [],
   "source": [
    "import matplotlib.pyplot as plt\n",
    "import seaborn as sns\n",
    "\n",
    "merged_df = pd.read_csv(\"final_prioritized_viral_targets.csv\")\n",
    "\n",
    "# Scatter plot\n",
    "plt.figure(figsize=(8,6))\n",
    "sns.scatterplot(\n",
    "    x='centrality', \n",
    "    y='conservation_ratio', \n",
    "    data=merged_df, \n",
    "    hue='final_score', \n",
    "    size='final_score', \n",
    "    palette='viridis', \n",
    "    sizes=(20, 200),\n",
    "    edgecolor='k', \n",
    "    alpha=0.7\n",
    ")\n",
    "\n",
    "plt.title(\"Conservation Ratio vs Centrality for SARS-CoV-2 Targets\", fontsize=14)\n",
    "plt.xlabel(\"Degree Centrality (Human PPI)\", fontsize=12)\n",
    "plt.ylabel(\"Conservation Ratio (Human-Mouse)\", fontsize=12)\n",
    "plt.legend(title=\"Final Score\", bbox_to_anchor=(1.05, 1), loc='upper left')\n",
    "plt.grid(True)\n",
    "plt.tight_layout()\n",
    "plt.savefig(\"scatter_conservation_centrality.png\", dpi=300)\n",
    "plt.show()\n"
   ]
  }
 ],
 "metadata": {
  "kernelspec": {
   "display_name": "Python 3",
   "language": "python",
   "name": "python3"
  },
  "language_info": {
   "codemirror_mode": {
    "name": "ipython",
    "version": 3
   },
   "file_extension": ".py",
   "mimetype": "text/x-python",
   "name": "python",
   "nbconvert_exporter": "python",
   "pygments_lexer": "ipython3",
   "version": "3.9.6"
  }
 },
 "nbformat": 4,
 "nbformat_minor": 5
}
